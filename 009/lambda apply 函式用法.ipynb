{
 "cells": [
  {
   "cell_type": "code",
   "execution_count": 1,
   "metadata": {},
   "outputs": [
    {
     "name": "stdout",
     "output_type": "stream",
     "text": [
      "               b         d         e\n",
      "utah   -0.248061  0.568049 -2.118212\n",
      "ohio    0.066083  2.500710 -0.275980\n",
      "texas   1.080570 -0.206721  0.327400\n",
      "oregon  1.560480 -1.041113  0.568327\n"
     ]
    }
   ],
   "source": [
    "import numpy as np\n",
    "import pandas as pd\n",
    "df=pd.DataFrame(np.random.randn(4,3),columns=list('bde'),index=['utah','ohio','texas','oregon'])\n",
    "print(df)"
   ]
  },
  {
   "cell_type": "code",
   "execution_count": 2,
   "metadata": {},
   "outputs": [
    {
     "name": "stdout",
     "output_type": "stream",
     "text": [
      "b    1.808541\n",
      "d    3.541823\n",
      "e    2.686539\n",
      "dtype: float64\n",
      "utah      2.686261\n",
      "ohio      2.776689\n",
      "texas     1.287291\n",
      "oregon    2.601593\n",
      "dtype: float64\n"
     ]
    }
   ],
   "source": [
    "f=lambda x:x.max()-x.min()\n",
    "#預設情況下會以列為單位，分別對列應用函式\n",
    "t1=df.apply(f) #以行\n",
    "print(t1)\n",
    "t2=df.apply(f,axis=1) #以列\n",
    "print(t2)"
   ]
  },
  {
   "cell_type": "code",
   "execution_count": 3,
   "metadata": {},
   "outputs": [
    {
     "data": {
      "text/html": [
       "<div>\n",
       "<style scoped>\n",
       "    .dataframe tbody tr th:only-of-type {\n",
       "        vertical-align: middle;\n",
       "    }\n",
       "\n",
       "    .dataframe tbody tr th {\n",
       "        vertical-align: top;\n",
       "    }\n",
       "\n",
       "    .dataframe thead th {\n",
       "        text-align: right;\n",
       "    }\n",
       "</style>\n",
       "<table border=\"1\" class=\"dataframe\">\n",
       "  <thead>\n",
       "    <tr style=\"text-align: right;\">\n",
       "      <th></th>\n",
       "      <th>b</th>\n",
       "      <th>d</th>\n",
       "      <th>e</th>\n",
       "    </tr>\n",
       "  </thead>\n",
       "  <tbody>\n",
       "    <tr>\n",
       "      <th>utah</th>\n",
       "      <td>-0.25</td>\n",
       "      <td>0.57</td>\n",
       "      <td>-2.12</td>\n",
       "    </tr>\n",
       "    <tr>\n",
       "      <th>ohio</th>\n",
       "      <td>0.07</td>\n",
       "      <td>2.50</td>\n",
       "      <td>-0.28</td>\n",
       "    </tr>\n",
       "    <tr>\n",
       "      <th>texas</th>\n",
       "      <td>1.08</td>\n",
       "      <td>-0.21</td>\n",
       "      <td>0.33</td>\n",
       "    </tr>\n",
       "    <tr>\n",
       "      <th>oregon</th>\n",
       "      <td>1.56</td>\n",
       "      <td>-1.04</td>\n",
       "      <td>0.57</td>\n",
       "    </tr>\n",
       "  </tbody>\n",
       "</table>\n",
       "</div>"
      ],
      "text/plain": [
       "            b      d      e\n",
       "utah    -0.25   0.57  -2.12\n",
       "ohio     0.07   2.50  -0.28\n",
       "texas    1.08  -0.21   0.33\n",
       "oregon   1.56  -1.04   0.57"
      ]
     },
     "execution_count": 3,
     "metadata": {},
     "output_type": "execute_result"
    }
   ],
   "source": [
    "f = lambda x: '%0.2f'%x \n",
    "t3 = df.applymap(f) #套用到各元素\n",
    "t3"
   ]
  },
  {
   "cell_type": "code",
   "execution_count": 4,
   "metadata": {},
   "outputs": [
    {
     "name": "stdout",
     "output_type": "stream",
     "text": [
      "utah      -2.12\n",
      "ohio      -0.28\n",
      "texas      0.33\n",
      "oregon     0.57\n",
      "Name: e, dtype: object\n"
     ]
    }
   ],
   "source": [
    "t4=df['e'].map(f) \n",
    "#這裡'map()'相當於'apply()功能\n",
    "#apply(df,series)/applymap(每個元素)/map(series)\n",
    "\n",
    "print(t4)"
   ]
  },
  {
   "cell_type": "code",
   "execution_count": null,
   "metadata": {},
   "outputs": [],
   "source": []
  }
 ],
 "metadata": {
  "kernelspec": {
   "display_name": "Python 3",
   "language": "python",
   "name": "python3"
  },
  "language_info": {
   "codemirror_mode": {
    "name": "ipython",
    "version": 3
   },
   "file_extension": ".py",
   "mimetype": "text/x-python",
   "name": "python",
   "nbconvert_exporter": "python",
   "pygments_lexer": "ipython3",
   "version": "3.8.3"
  }
 },
 "nbformat": 4,
 "nbformat_minor": 4
}
